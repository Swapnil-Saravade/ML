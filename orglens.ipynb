{
  "nbformat": 4,
  "nbformat_minor": 0,
  "metadata": {
    "colab": {
      "provenance": []
    },
    "kernelspec": {
      "name": "python3",
      "display_name": "Python 3"
    },
    "language_info": {
      "name": "python"
    }
  },
  "cells": [
    {
      "cell_type": "code",
      "execution_count": 249,
      "metadata": {
        "id": "c54o8aBs2W6h"
      },
      "outputs": [],
      "source": [
        "import math \n",
        "import csv \n",
        "import numpy as np\n",
        "import matplotlib.pyplot as plt "
      ]
    },
    {
      "cell_type": "markdown",
      "source": [
        "Read a CSV file, assume there are two fields, Name and Mark, with around 10 rows filled.\n",
        "Calculate the Mean, Variance and Standard deviation, write it to the CSV and save it.\n",
        "Also plot a graph of these values and mark the mean and SD on it"
      ],
      "metadata": {
        "id": "Xa6u3k2QhKtR"
      }
    },
    {
      "cell_type": "code",
      "source": [
        "''' first i create the stat.csv file then insert mark into it'''\n",
        "with open(\"stat.csv\",\"w\") as f :\n",
        "  f.write(\"Name , Mark\\n\")\n",
        "  st=\"\"\n",
        "  while st!=\"#\":\n",
        "    st=input(\"enter the name (# to stop)\")\n",
        "    if st!=\"#\":\n",
        "        f.write(st+\",\")\n",
        "        mark=input(\"enter the mark \")\n",
        "        f.write(mark+\"\\n\")"
      ],
      "metadata": {
        "colab": {
          "base_uri": "https://localhost:8080/"
        },
        "id": "hirYiuelOU-w",
        "outputId": "cb22feee-1d92-4957-b165-2c7b9843364f"
      },
      "execution_count": 252,
      "outputs": [
        {
          "name": "stdout",
          "output_type": "stream",
          "text": [
            "enter the name (# to stop)qwe\n",
            "enter the mark 78\n",
            "enter the name (# to stop)rty\n",
            "enter the mark 96\n",
            "enter the name (# to stop)uio\n",
            "enter the mark 32\n",
            "enter the name (# to stop)opa\n",
            "enter the mark 21\n",
            "enter the name (# to stop)sdf\n",
            "enter the mark 14\n",
            "enter the name (# to stop)fgh\n",
            "enter the mark 47\n",
            "enter the name (# to stop)hjk\n",
            "enter the mark 78\n",
            "enter the name (# to stop)klz\n",
            "enter the mark 89\n",
            "enter the name (# to stop)xcv\n",
            "enter the mark 96\n",
            "enter the name (# to stop)vcb8\n",
            "enter the mark 85\n",
            "enter the name (# to stop)dfgh\n",
            "enter the mark 45\n",
            "enter the name (# to stop)#\n"
          ]
        }
      ]
    },
    {
      "cell_type": "code",
      "source": [
        "''' here i append the mark into the list '''\n",
        "f=open(\"stat.csv\",\"r\")\n",
        "q=f.read().splitlines()\n",
        "t=q[1:]\n",
        "mark=[]\n",
        "name=[]\n",
        "for i in range(len(t)):\n",
        "  w=t[i].split(\",\")\n",
        "  mark.append(float(w[1]))\n",
        "  name.append(str(w[0]))\n",
        "print(mark)\n",
        "print(name)\n",
        "f.close()"
      ],
      "metadata": {
        "colab": {
          "base_uri": "https://localhost:8080/"
        },
        "id": "v_pwi-rSH7TN",
        "outputId": "32b77c46-1b45-4121-ef0a-d9cff4dbedfb"
      },
      "execution_count": 253,
      "outputs": [
        {
          "output_type": "stream",
          "name": "stdout",
          "text": [
            "[78.0, 96.0, 32.0, 21.0, 14.0, 47.0, 78.0, 89.0, 96.0, 85.0, 45.0]\n",
            "['qwe', 'rty', 'uio', 'opa', 'sdf', 'fgh', 'hjk', 'klz', 'xcv', 'vcb8', 'dfgh']\n"
          ]
        }
      ]
    },
    {
      "cell_type": "code",
      "source": [
        "mean = sum(mark) / len(mark)\n",
        "print(mean)\n",
        "s=sum([((x-mean)**2) for x in mark])\n",
        "sd = (s / (len(mark) - 1))**0.5\n",
        "print(sd)\n",
        "var=sd**2\n",
        "print(var)"
      ],
      "metadata": {
        "colab": {
          "base_uri": "https://localhost:8080/"
        },
        "id": "vw4CbaQRRscv",
        "outputId": "4bd6c84c-09f6-41e0-c244-27b80c521a52"
      },
      "execution_count": 254,
      "outputs": [
        {
          "output_type": "stream",
          "name": "stdout",
          "text": [
            "61.90909090909091\n",
            "30.791084896296027\n",
            "948.0909090909093\n"
          ]
        }
      ]
    },
    {
      "cell_type": "code",
      "source": [
        "plt.figure(figsize=(10,5))\n",
        "plt.scatter(name,mark)\n",
        "plt.xlabel(\"name\")\n",
        "plt.ylabel(\"Marks\")\n",
        "plt.axhline(mean, color='r', label='Mean')\n",
        "plt.axhline(sd, color='y', label='SD')\n",
        "plt.legend()\n",
        "#plt.axhline(var, color='g', label='Mean')\n",
        "plt.show()"
      ],
      "metadata": {
        "colab": {
          "base_uri": "https://localhost:8080/",
          "height": 337
        },
        "id": "Hvqrcy9IZSB7",
        "outputId": "ec68a6f5-7461-40b4-a42f-a87bff260864"
      },
      "execution_count": 255,
      "outputs": [
        {
          "output_type": "display_data",
          "data": {
            "text/plain": [
              "<Figure size 720x360 with 1 Axes>"
            ],
            "image/png": "[encoded data removed]"
          },
          "metadata": {
            "needs_background": "light"
          }
        }
      ]
    },
    {
      "cell_type": "markdown",
      "source": [
        "Get a number, Make the 2 MSBs one. Print the result – both as decimal and binary"
      ],
      "metadata": {
        "id": "yW3Voynmi0i6"
      }
    },
    {
      "cell_type": "code",
      "source": [
        "# Get a number, Make the 2 MSBs one. Print the result – both as decimal and binar\n",
        "num = int(input(\"Enter a number: \"))\n",
        "num |= 0b11000000\n",
        "print(\"Result (decimal):\", num)\n",
        "print(\"Result (binary):\", bin(num))"
      ],
      "metadata": {
        "colab": {
          "base_uri": "https://localhost:8080/"
        },
        "id": "PnqVwkseaJPp",
        "outputId": "a6dc5730-cce9-4df5-bd36-030ad3c557cf"
      },
      "execution_count": 256,
      "outputs": [
        {
          "output_type": "stream",
          "name": "stdout",
          "text": [
            "Enter a number: 948\n",
            "Result (decimal): 1012\n",
            "Result (binary): 0b1111110100\n"
          ]
        }
      ]
    },
    {
      "cell_type": "markdown",
      "source": [
        ". A shopkeeper want to give his clients the balance amount with minimum number of notes.\n",
        "Write a program to find out the notes and their counts, so that the total number of notes is\n",
        "minimum.\n"
      ],
      "metadata": {
        "id": "KGlxx3HgiwAi"
      }
    },
    {
      "cell_type": "code",
      "source": [
        "note=[2000,500,200,100,50,20,5,2,1]\n",
        "amount=int(input(\"enter the amount=\"))\n",
        "price={}\n",
        "for i in note:\n",
        "  count=amount//i\n",
        "  if count>0:\n",
        "    price[i]=count\n",
        "  amount=amount-(count*i)\n",
        "print(price)"
      ],
      "metadata": {
        "colab": {
          "base_uri": "https://localhost:8080/"
        },
        "id": "NVOMxcnZhFVt",
        "outputId": "63013de4-0be2-4c2d-e5ec-54d39ea97c4a"
      },
      "execution_count": 257,
      "outputs": [
        {
          "output_type": "stream",
          "name": "stdout",
          "text": [
            "enter the amount=78954\n",
            "{2000: 39, 500: 1, 200: 2, 50: 1, 2: 2}\n"
          ]
        }
      ]
    },
    {
      "cell_type": "markdown",
      "source": [
        "Calculate Cos (x) using Maclaurin Series and plot the series with matplotlib"
      ],
      "metadata": {
        "id": "RtRlQkmki6PV"
      }
    },
    {
      "cell_type": "code",
      "source": [
        "# first we found out the factorial of the given number \n",
        "def fact(k):\n",
        "    pro=1\n",
        "    for i in range(1,k+1):\n",
        "          pro=pro*i\n",
        "    return pro"
      ],
      "metadata": {
        "id": "KpLB9c5VhSNM"
      },
      "execution_count": 258,
      "outputs": []
    },
    {
      "cell_type": "code",
      "source": [
        "def cos(k,x):\n",
        "  l=[]\n",
        "  for i in range(k):\n",
        "    p=(((-1)**i)*(x**(2*i)))/(fact(2*i))\n",
        "    l.append(p)\n",
        "  return sum(l)"
      ],
      "metadata": {
        "id": "tejUAtiYoB7C"
      },
      "execution_count": 259,
      "outputs": []
    },
    {
      "cell_type": "code",
      "source": [
        "x=list(np.linspace(-2*3.14,2*3.14, 10000))\n",
        "y=[cos(30,i) for i in x]\n",
        "plt.plot(x, y)\n",
        "plt.xlabel(\"x\")\n",
        "plt.axhline(0, color='r')\n",
        "plt.ylabel(\"cos(x)\")\n",
        "plt.show()"
      ],
      "metadata": {
        "colab": {
          "base_uri": "https://localhost:8080/",
          "height": 279
        },
        "id": "a7dApCIqyfcp",
        "outputId": "0145228e-afd9-4ee6-d25c-048ad4de980f"
      },
      "execution_count": 260,
      "outputs": [
        {
          "output_type": "display_data",
          "data": {
            "text/plain": [
              "<Figure size 432x288 with 1 Axes>"
            ],
            "image/png": "[encoded data removed]"
          },
          "metadata": {
            "needs_background": "light"
          }
        }
      ]
    },
    {
      "cell_type": "markdown",
      "source": [
        "Write a program to compare two JSONS which are structurally similar. The output should be\n",
        "another JSON which contains the tags that has different values. You may expect the JSONS\n",
        "can have nested structures."
      ],
      "metadata": {
        "id": "9MXX1zkq-XWf"
      }
    },
    {
      "cell_type": "code",
      "source": [
        "import time \n",
        "from datetime import date\n",
        "json1={\"x\":10.4,\n",
        "       \"y\":20,\n",
        "      \"name\": \"raj\",\n",
        "      \"bod\":date(2023,2,25) \n",
        "      }\n",
        "json2={\"x\":10,\n",
        "       \"y\":20,\n",
        "      \"name\": \"ram\",\n",
        "      \"bod\":date(2023,5,25),\n",
        "       \"z\":25}"
      ],
      "metadata": {
        "id": "sJgw2Liz9C8Y"
      },
      "execution_count": 261,
      "outputs": []
    },
    {
      "cell_type": "code",
      "source": [
        "result = {}\n",
        "for key in json1.keys():\n",
        "    if key in json2.keys():\n",
        "        if isinstance(json1[key], (int, float)):\n",
        "            if json1[key] != json2[key]:\n",
        "                result[key] = abs(json1[key] - json2[key])\n",
        "        elif isinstance(json1[key], str):\n",
        "            if json1[key] != json2[key]:\n",
        "                result[key] = \"text change\"\n",
        "        elif isinstance(json1[key], date):\n",
        "            if json1[key] != json2[key]:\n",
        "                delta = (json2[key] - json1[key])\n",
        "                result[key] = str(delta)\n",
        "    else:\n",
        "        result[key] = json1[key]\n",
        "\n",
        "for key in json2.keys():\n",
        "    if key not in json1:\n",
        "        result[key] = \"Only in 2\"\n",
        "\n",
        "print(result)"
      ],
      "metadata": {
        "colab": {
          "base_uri": "https://localhost:8080/"
        },
        "id": "_dSuUdW1Yii6",
        "outputId": "45ebc501-f955-4730-b445-0b65242f53de"
      },
      "execution_count": 262,
      "outputs": [
        {
          "output_type": "stream",
          "name": "stdout",
          "text": [
            "{'x': 0.40000000000000036, 'name': 'text change', 'bod': '89 days, 0:00:00', 'z': 'Only in 2'}\n"
          ]
        }
      ]
    },
    {
      "cell_type": "markdown",
      "source": [
        "Caesar cipher is a method to encrypt (make a secret code) a string. It is achieved by\n",
        "advancing each digit n places. Write a program to read a text file, get the string and encrypt\n",
        "it first using Caesar and then XORing with a salt and write it back to <filename>_enc.txt."
      ],
      "metadata": {
        "id": "7oQHWdmsg1Tj"
      }
    },
    {
      "cell_type": "code",
      "source": [
        "def caesar_encrypt(text, key):\n",
        "    result = \"\"\n",
        "    for char in text:\n",
        "        if char.isalpha():\n",
        "            shifted = chr((ord(char) + key - 65) % 26 + 65)\n",
        "            result += shifted\n",
        "        else:\n",
        "            result += char\n",
        "    return result\n",
        "    \n",
        "def xor_encrypt(text, salt):\n",
        "    result = \"\"\n",
        "    for i in range(len(text)):\n",
        "        result += chr(ord(text[i]) ^ ord(salt[i % len(salt)]))\n",
        "    return result\n"
      ],
      "metadata": {
        "id": "5qs_ks4ClVFZ"
      },
      "execution_count": 263,
      "outputs": []
    },
    {
      "cell_type": "code",
      "source": [
        "key = 3\n",
        "salt = \"secrsdfet\"\n",
        "with open(\"input.txt\",\"w\") as f:\n",
        "  f.write(\"first last thirs=\")\n",
        "with open(\"input.txt\",\"r\") as f :\n",
        "  p=f.read()\n",
        "  q= caesar_encrypt(p, key)\n",
        "  t=xor_encrypt(q, salt)\n",
        "with open(\"input.txt\",\"w\") as f:\n",
        "  f.write(t)\n"
      ],
      "metadata": {
        "id": "XDmKVvNwpuu0"
      },
      "execution_count": 264,
      "outputs": []
    },
    {
      "cell_type": "code",
      "source": [
        "f=open(\"input.txt\")\n",
        "p=f.read()\n",
        "print(p)\n",
        "f.close()"
      ],
      "metadata": {
        "colab": {
          "base_uri": "https://localhost:8080/"
        },
        "id": "zxcGStIGpBg2",
        "outputId": "61d25913-de3a-4b9f-f1a2-184921262ca2"
      },
      "execution_count": 265,
      "outputs": [
        {
          "output_type": "stream",
          "name": "stdout",
          "text": [
            "<7\"00D3/60E #!%$X\n"
          ]
        }
      ]
    },
    {
      "cell_type": "code",
      "source": [],
      "metadata": {
        "id": "Vm592_e7q5gx"
      },
      "execution_count": null,
      "outputs": []
    }
  ]
}